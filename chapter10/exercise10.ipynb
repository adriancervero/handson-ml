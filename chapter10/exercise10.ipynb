{
 "cells": [
  {
   "cell_type": "markdown",
   "metadata": {},
   "source": [
    "10. Train a deep MLP on the MNIST dataset and see if you can get over 98% preci‐\n",
    "sion. Try adding all the bells and whistles (i.e., save checkpoints, use early stop‐\n",
    "ping, plot learning curves using TensorBoard, and so on)."
   ]
  },
  {
   "cell_type": "code",
   "execution_count": 1,
   "metadata": {},
   "outputs": [],
   "source": [
    "from tensorflow import keras"
   ]
  },
  {
   "cell_type": "code",
   "execution_count": 2,
   "metadata": {},
   "outputs": [
    {
     "name": "stdout",
     "output_type": "stream",
     "text": [
      "Downloading data from https://storage.googleapis.com/tensorflow/tf-keras-datasets/mnist.npz\n",
      "11493376/11490434 [==============================] - 1s 0us/step\n"
     ]
    }
   ],
   "source": [
    "(X_train_full, y_train_full), (X_test, y_test) = keras.datasets.mnist.load_data()"
   ]
  },
  {
   "cell_type": "code",
   "execution_count": 3,
   "metadata": {},
   "outputs": [
    {
     "data": {
      "text/plain": [
       "(60000, 28, 28)"
      ]
     },
     "execution_count": 3,
     "metadata": {},
     "output_type": "execute_result"
    }
   ],
   "source": [
    "X_train_full.shape"
   ]
  },
  {
   "cell_type": "code",
   "execution_count": 6,
   "metadata": {},
   "outputs": [
    {
     "data": {
      "text/plain": [
       "array([5, 0, 4, ..., 5, 6, 8], dtype=uint8)"
      ]
     },
     "execution_count": 6,
     "metadata": {},
     "output_type": "execute_result"
    }
   ],
   "source": [
    "y_train_full"
   ]
  },
  {
   "cell_type": "code",
   "execution_count": 7,
   "metadata": {},
   "outputs": [],
   "source": [
    "X_train_full = X_train_full / 255.0"
   ]
  },
  {
   "cell_type": "code",
   "execution_count": 10,
   "metadata": {},
   "outputs": [],
   "source": [
    "X_test = X_test / 255.0"
   ]
  },
  {
   "cell_type": "code",
   "execution_count": 11,
   "metadata": {},
   "outputs": [
    {
     "data": {
      "text/plain": [
       "784"
      ]
     },
     "execution_count": 11,
     "metadata": {},
     "output_type": "execute_result"
    }
   ],
   "source": [
    "28*28"
   ]
  },
  {
   "cell_type": "code",
   "execution_count": 48,
   "metadata": {},
   "outputs": [],
   "source": [
    "model = keras.models.Sequential([\n",
    "    keras.layers.Flatten(input_shape=(28,28)),\n",
    "    keras.layers.Dense(200, activation='relu'),\n",
    "    keras.layers.Dense(200, activation='relu'),\n",
    "    keras.layers.Dense(10, activation='softmax')\n",
    "])\n",
    "\n",
    "model.compile(loss=keras.losses.sparse_categorical_crossentropy,\n",
    "             optimizer=keras.optimizers.SGD(learning_rate=2e-1),\n",
    "             metrics=['accuracy'])"
   ]
  },
  {
   "cell_type": "code",
   "execution_count": 42,
   "metadata": {},
   "outputs": [
    {
     "data": {
      "text/plain": [
       "'./my_mnist_logs/run_001'"
      ]
     },
     "execution_count": 42,
     "metadata": {},
     "output_type": "execute_result"
    }
   ],
   "source": [
    "import os\n",
    "run_index = 1 # increment this at every run\n",
    "run_logdir = os.path.join(os.curdir, \"my_mnist_logs\", \"run_{:03d}\".format(run_index))\n",
    "run_logdir"
   ]
  },
  {
   "cell_type": "code",
   "execution_count": 49,
   "metadata": {},
   "outputs": [
    {
     "name": "stdout",
     "output_type": "stream",
     "text": [
      "Epoch 1/20\n",
      "1688/1688 [==============================] - 5s 3ms/step - loss: 0.4259 - accuracy: 0.8687 - val_loss: 0.1175 - val_accuracy: 0.9652\n",
      "Epoch 2/20\n",
      "1688/1688 [==============================] - 5s 3ms/step - loss: 0.1062 - accuracy: 0.9668 - val_loss: 0.0807 - val_accuracy: 0.9748\n",
      "Epoch 3/20\n",
      "1688/1688 [==============================] - 5s 3ms/step - loss: 0.0660 - accuracy: 0.9777 - val_loss: 0.0745 - val_accuracy: 0.9778\n",
      "Epoch 4/20\n",
      "1688/1688 [==============================] - 5s 3ms/step - loss: 0.0484 - accuracy: 0.9848 - val_loss: 0.0675 - val_accuracy: 0.9815\n",
      "Epoch 5/20\n",
      "1688/1688 [==============================] - 5s 3ms/step - loss: 0.0359 - accuracy: 0.9883 - val_loss: 0.0680 - val_accuracy: 0.9792\n",
      "Epoch 6/20\n",
      "1688/1688 [==============================] - 5s 3ms/step - loss: 0.0274 - accuracy: 0.9913 - val_loss: 0.0917 - val_accuracy: 0.9750\n",
      "Epoch 7/20\n",
      "1688/1688 [==============================] - 5s 3ms/step - loss: 0.0197 - accuracy: 0.9935 - val_loss: 0.0789 - val_accuracy: 0.9793\n",
      "Epoch 8/20\n",
      "1688/1688 [==============================] - 5s 3ms/step - loss: 0.0161 - accuracy: 0.9952 - val_loss: 0.0644 - val_accuracy: 0.9837\n",
      "Epoch 9/20\n",
      "1688/1688 [==============================] - 5s 3ms/step - loss: 0.0104 - accuracy: 0.9969 - val_loss: 0.0722 - val_accuracy: 0.9820\n",
      "Epoch 10/20\n",
      "1688/1688 [==============================] - 5s 3ms/step - loss: 0.0102 - accuracy: 0.9967 - val_loss: 0.0741 - val_accuracy: 0.9828\n",
      "Epoch 11/20\n",
      "1688/1688 [==============================] - 5s 3ms/step - loss: 0.0068 - accuracy: 0.9982 - val_loss: 0.0725 - val_accuracy: 0.9843\n",
      "Epoch 12/20\n",
      "1688/1688 [==============================] - 5s 3ms/step - loss: 0.0034 - accuracy: 0.9992 - val_loss: 0.0928 - val_accuracy: 0.9807\n",
      "Epoch 13/20\n",
      "1688/1688 [==============================] - 5s 3ms/step - loss: 0.0042 - accuracy: 0.9989 - val_loss: 0.0737 - val_accuracy: 0.9837\n",
      "Epoch 14/20\n",
      "1688/1688 [==============================] - 5s 3ms/step - loss: 8.7582e-04 - accuracy: 0.9998 - val_loss: 0.0723 - val_accuracy: 0.9850\n",
      "Epoch 15/20\n",
      "1688/1688 [==============================] - 5s 3ms/step - loss: 6.2383e-04 - accuracy: 0.9999 - val_loss: 0.0722 - val_accuracy: 0.9850\n",
      "Epoch 16/20\n",
      "1688/1688 [==============================] - 5s 3ms/step - loss: 3.0211e-04 - accuracy: 1.0000 - val_loss: 0.0726 - val_accuracy: 0.9862\n",
      "Epoch 17/20\n",
      "1688/1688 [==============================] - 5s 3ms/step - loss: 2.3655e-04 - accuracy: 1.0000 - val_loss: 0.0736 - val_accuracy: 0.9855\n",
      "Epoch 18/20\n",
      "1688/1688 [==============================] - 5s 3ms/step - loss: 2.0395e-04 - accuracy: 1.0000 - val_loss: 0.0744 - val_accuracy: 0.9858\n"
     ]
    }
   ],
   "source": [
    "early_stopping_cb = keras.callbacks.EarlyStopping(patience=10)\n",
    "checkpoint_cb = keras.callbacks.ModelCheckpoint('my_mnist_model.h5', save_best_only=True)\n",
    "tensorboard = keras.callbacks.TensorBoard(run_logdir)\n",
    "\n",
    "history = model.fit(X_train_full, y_train_full, epochs=20,\n",
    "                   validation_split=0.1,\n",
    "                   callbacks=[early_stopping_cb, checkpoint_cb, tensorboard])"
   ]
  },
  {
   "cell_type": "code",
   "execution_count": 50,
   "metadata": {},
   "outputs": [
    {
     "name": "stdout",
     "output_type": "stream",
     "text": [
      "313/313 [==============================] - 1s 2ms/step - loss: 0.0739 - accuracy: 0.9803\n"
     ]
    },
    {
     "data": {
      "text/plain": [
       "[0.0739343985915184, 0.9803000092506409]"
      ]
     },
     "execution_count": 50,
     "metadata": {},
     "output_type": "execute_result"
    }
   ],
   "source": [
    "model = keras.models.load_model(\"my_mnist_model.h5\") # rollback to best model\n",
    "model.evaluate(X_test, y_test)"
   ]
  },
  {
   "cell_type": "code",
   "execution_count": 46,
   "metadata": {},
   "outputs": [
    {
     "name": "stderr",
     "output_type": "stream",
     "text": [
      "UsageError: Line magic function `%tensorboard` not found.\n"
     ]
    }
   ],
   "source": [
    "%tensorboard --logdir=./my_mnist_logs --port=6006"
   ]
  },
  {
   "cell_type": "code",
   "execution_count": null,
   "metadata": {},
   "outputs": [],
   "source": []
  }
 ],
 "metadata": {
  "kernelspec": {
   "display_name": "Python 3",
   "language": "python",
   "name": "python3"
  },
  "language_info": {
   "codemirror_mode": {
    "name": "ipython",
    "version": 3
   },
   "file_extension": ".py",
   "mimetype": "text/x-python",
   "name": "python",
   "nbconvert_exporter": "python",
   "pygments_lexer": "ipython3",
   "version": "3.8.3"
  }
 },
 "nbformat": 4,
 "nbformat_minor": 4
}
